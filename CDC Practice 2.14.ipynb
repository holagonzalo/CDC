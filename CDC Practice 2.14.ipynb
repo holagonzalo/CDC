{
 "metadata": {
  "name": "",
  "signature": "sha256:5a1ebf618c8490a224458e8c24b4c24b81af5226354b91a9b87ecda11fd15585"
 },
 "nbformat": 3,
 "nbformat_minor": 0,
 "worksheets": [
  {
   "cells": [
    {
     "cell_type": "code",
     "collapsed": false,
     "input": [
      "%matplotlib inline\n",
      "import pandas as pd\n",
      "import matplotlib.pyplot as plt\n",
      "import numpy as np\n",
      "pd.options.display.max_columns = 50\n",
      "from IPython.display import Image \n",
      "print \"pandas\",pd.__version__\n",
      "print \"numpy\", np.__version__"
     ],
     "language": "python",
     "metadata": {},
     "outputs": []
    },
    {
     "cell_type": "markdown",
     "metadata": {},
     "source": [
      "#CDC Data\n",
      "This is a compiled data set combining the 1999-2000 and 2001-2002 data from the National Health And Nutrition Examination Survey (NHANES) conducted by the CDC.\n",
      "\n",
      "Description of the data can be found in the pdf file here:\n",
      "\n",
      "https://github.com/holagonzalo/CDC/blob/master/Data%20Description.pdf\n",
      "\n",
      "The data sets are split into demographic information and physical activity information by year.\n",
      "\n",
      "- https://raw.githubusercontent.com/holagonzalo/CDC/master/demo01.csv\n",
      "\n",
      "- https://raw.githubusercontent.com/holagonzalo/CDC/master/demo99.csv\n",
      "\n",
      "- https://raw.githubusercontent.com/holagonzalo/CDC/master/phys01.csv\n",
      "\n",
      "- https://raw.githubusercontent.com/holagonzalo/CDC/master/phys99.csv\n",
      "\n"
     ]
    },
    {
     "cell_type": "markdown",
     "metadata": {},
     "source": [
      "###Q1. Load the four data files. \n",
      "\n",
      "Keep the naming convention or choose your own.\n",
      "\n",
      "*Help: Follow our [first tutorial](http://nbviewer.ipython.org/github/sdrdl/training-notebooks/blob/master/python-and-pandas/Basic%20Pandas.ipynb) under \"Load Data\"*"
     ]
    },
    {
     "cell_type": "code",
     "collapsed": false,
     "input": [
      "#your code here"
     ],
     "language": "python",
     "metadata": {},
     "outputs": []
    },
    {
     "cell_type": "markdown",
     "metadata": {},
     "source": [
      "###Q2. For the year 2001-2002, how many different/unique values are there for the variable \"WEIGHTCAT\"?\n",
      "\n",
      "*Help: Follow our [first tutorial](http://nbviewer.ipython.org/github/sdrdl/training-notebooks/blob/master/python-and-pandas/Basic%20Pandas.ipynb) under \"Accessing Columns\"*"
     ]
    },
    {
     "cell_type": "code",
     "collapsed": false,
     "input": [
      "#your code here"
     ],
     "language": "python",
     "metadata": {},
     "outputs": []
    },
    {
     "cell_type": "markdown",
     "metadata": {},
     "source": [
      "###Q3. For the previous question, find out how many records there are in each category."
     ]
    },
    {
     "cell_type": "code",
     "collapsed": false,
     "input": [
      "#your code here"
     ],
     "language": "python",
     "metadata": {},
     "outputs": []
    },
    {
     "cell_type": "markdown",
     "metadata": {},
     "source": [
      "###Q4. Find and compare the mean and std deviation of BMI for each survey (1999-2000 and 2001-2002). \n",
      "- Does the average BMI increase/decrease over time? \n",
      "- Which survey has the individual with the highest BMI?\n",
      "- Which survey has higher variance in BMI?\n",
      "\n",
      "*Help: Follow our [first tutorial](http://nbviewer.ipython.org/github/sdrdl/training-notebooks/blob/master/python-and-pandas/Basic%20Pandas.ipynb) under \"Summary Statistics\"*\n"
     ]
    },
    {
     "cell_type": "code",
     "collapsed": false,
     "input": [
      "#your code here"
     ],
     "language": "python",
     "metadata": {},
     "outputs": []
    },
    {
     "cell_type": "markdown",
     "metadata": {},
     "source": [
      "###Q5. Create a histogram for AGE for the survey 1999-2000. Choose an appropriate number of bins.\n",
      "*Help: Follow our [first tutorial](http://nbviewer.ipython.org/github/sdrdl/training-notebooks/blob/master/python-and-pandas/Basic%20Pandas.ipynb) under \"Quick plots\"*"
     ]
    },
    {
     "cell_type": "code",
     "collapsed": false,
     "input": [
      "#your code here"
     ],
     "language": "python",
     "metadata": {},
     "outputs": []
    },
    {
     "cell_type": "markdown",
     "metadata": {},
     "source": [
      "###Q6. Create a plot for the age of HISPANICS for the survey 2001-2002.\n",
      "\n",
      "*Help: Follow our [first tutorial](http://nbviewer.ipython.org/github/sdrdl/training-notebooks/blob/master/python-and-pandas/Basic%20Pandas.ipynb) under \"Filtering\"*"
     ]
    },
    {
     "cell_type": "code",
     "collapsed": false,
     "input": [
      "#your code here"
     ],
     "language": "python",
     "metadata": {},
     "outputs": []
    },
    {
     "cell_type": "markdown",
     "metadata": {},
     "source": [
      "###Q7. Create a single dataframe by joining the demographics and physical information datasets.\n",
      "*Help: [Joining Datasets tutorial](http://nbviewer.ipython.org/github/sdrdl/training-notebooks/blob/master/python-and-pandas/Joining%20Datasets.ipynb)*"
     ]
    },
    {
     "cell_type": "code",
     "collapsed": false,
     "input": [
      "#your code here"
     ],
     "language": "python",
     "metadata": {},
     "outputs": []
    },
    {
     "cell_type": "markdown",
     "metadata": {},
     "source": [
      "### Q8. Do alcohol drinkers have a higher BMI than those that do not drink alcohol?\n",
      "\n",
      "*Help: Follow our [first tutorial](http://nbviewer.ipython.org/github/sdrdl/training-notebooks/blob/master/python-and-pandas/Basic%20Pandas.ipynb) under \"Grouping\"*"
     ]
    },
    {
     "cell_type": "code",
     "collapsed": false,
     "input": [
      "#your code here"
     ],
     "language": "python",
     "metadata": {},
     "outputs": []
    },
    {
     "cell_type": "markdown",
     "metadata": {},
     "source": [
      "#Happy Valentine's Day\n",
      "\n",
      "For the next excercise, we'll explore linear regression to determine the predictors of BMI and their contribution to its variance."
     ]
    },
    {
     "cell_type": "code",
     "collapsed": false,
     "input": [
      "Image('http://41.media.tumblr.com/9febbe18e98dbaa23e17b8ad6253e996/tumblr_n0zxw1cVTY1ssq4s4o1_500.jpg')"
     ],
     "language": "python",
     "metadata": {},
     "outputs": []
    }
   ],
   "metadata": {}
  }
 ]
}