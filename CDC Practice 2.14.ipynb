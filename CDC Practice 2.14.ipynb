{
 "metadata": {
  "name": "",
  "signature": "sha256:97cd76365eb9bf06ffd6611a57d0a7d0bb4b9f80a8b180f623d59ed2492f2265"
 },
 "nbformat": 3,
 "nbformat_minor": 0,
 "worksheets": [
  {
   "cells": [
    {
     "cell_type": "code",
     "collapsed": false,
     "input": [
      "%matplotlib inline\n",
      "import pandas as pd\n",
      "import matplotlib.pyplot as plt\n",
      "import numpy as np\n",
      "pd.options.display.max_columns = 50\n",
      "\n",
      "print \"pandas\",pd.__version__\n",
      "print \"numpy\", np.__version__"
     ],
     "language": "python",
     "metadata": {},
     "outputs": [
      {
       "output_type": "stream",
       "stream": "stdout",
       "text": [
        "pandas 0.14.1\n",
        "numpy 1.8.0rc1\n"
       ]
      }
     ],
     "prompt_number": 1
    },
    {
     "cell_type": "markdown",
     "metadata": {},
     "source": [
      "###The Data\n",
      "\n",
      "This is a compiled data set combining the 1999-2000 and 2001-2002 data from the National Health And Nutrition Examination Survey (NHANES) conducted by the CDC.\n",
      "\n",
      "###Load the data\n",
      "\n",
      "Datasets used today can be found here\n",
      "-\n",
      "-\n",
      "-\n",
      "-"
     ]
    },
    {
     "cell_type": "markdown",
     "metadata": {},
     "source": []
    },
    {
     "cell_type": "code",
     "collapsed": false,
     "input": [],
     "language": "python",
     "metadata": {},
     "outputs": []
    }
   ],
   "metadata": {}
  }
 ]
}