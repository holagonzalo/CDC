{
 "metadata": {
  "name": "",
  "signature": "sha256:604208887ff99de06169e312b2fb9975092a91e53725e2e7dfa959c32cf1746e"
 },
 "nbformat": 3,
 "nbformat_minor": 0,
 "worksheets": [
  {
   "cells": [
    {
     "cell_type": "code",
     "collapsed": false,
     "input": [
      "%matplotlib inline\n",
      "import pandas as pd\n",
      "import matplotlib.pyplot as plt\n",
      "import numpy as np\n",
      "pd.options.display.max_columns = 50\n",
      "\n",
      "print \"pandas\",pd.__version__\n",
      "print \"numpy\", np.__version__"
     ],
     "language": "python",
     "metadata": {},
     "outputs": [
      {
       "output_type": "stream",
       "stream": "stdout",
       "text": [
        "pandas 0.14.1\n",
        "numpy 1.8.0rc1\n"
       ]
      }
     ],
     "prompt_number": 1
    },
    {
     "cell_type": "markdown",
     "metadata": {},
     "source": [
      "###The Data\n",
      "This is a compiled data set combining the 1999-2000 and 2001-2002 data from the National Health And Nutrition Examination Survey (NHANES) conducted by the CDC.\n",
      "\n",
      "Description can be found in the pdf file found here:\n",
      "http://nbviewer.ipython.org/github/holagonzalo/CDC/tree/master/\n",
      "\n",
      "###Load the data\n",
      "There .csv files are split into two"
     ]
    },
    {
     "cell_type": "markdown",
     "metadata": {},
     "source": []
    },
    {
     "cell_type": "code",
     "collapsed": false,
     "input": [],
     "language": "python",
     "metadata": {},
     "outputs": []
    }
   ],
   "metadata": {}
  }
 ]
}